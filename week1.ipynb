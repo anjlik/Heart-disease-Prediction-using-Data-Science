{
  "nbformat": 4,
  "nbformat_minor": 0,
  "metadata": {
    "colab": {
      "name": "week1.ipynb",
      "provenance": [],
      "include_colab_link": true
    },
    "kernelspec": {
      "name": "python3",
      "display_name": "Python 3"
    },
    "language_info": {
      "name": "python"
    }
  },
  "cells": [
    {
      "cell_type": "markdown",
      "metadata": {
        "id": "view-in-github",
        "colab_type": "text"
      },
      "source": [
        "<a href=\"https://colab.research.google.com/github/Anjali8356/Heart-disease-Prediction-using-Data-Science/blob/main/week1.ipynb\" target=\"_parent\"><img src=\"https://colab.research.google.com/assets/colab-badge.svg\" alt=\"Open In Colab\"/></a>"
      ]
    },
    {
      "cell_type": "markdown",
      "metadata": {
        "id": "ONsvMV9P7ahQ"
      },
      "source": [
        "**Introduction**\n",
        "\n",
        "1.Python is a general purpose high level programming language.\n",
        "\n",
        "2.Python was developed by Guido Van Rossam in 1989 while working at National Research Institute \n",
        "\n",
        "\n",
        "\n",
        "\n",
        "\n",
        "But ocially Python was made available to public in 1991. The ocial Date of Birth for Python is : F\n",
        " Python is recommended as rst programming language for beginners.\n",
        "Eg1: To print Helloworld:\n",
        "In Java:\n",
        "public class HelloWorld { public static void main(String[] args) { System.out.println(\"Hello w\n",
        "In C:\n",
        "#include void main() { print(\"Hello world\"); }\n",
        "Python:\n",
        "print(\"Hello World\")"
      ]
    },
    {
      "cell_type": "code",
      "metadata": {
        "colab": {
          "base_uri": "https://localhost:8080/"
        },
        "id": "3JgRrzSL6F4u",
        "outputId": "9bd8e579-4968-4eb1-fb03-030f13a6c48e"
      },
      "source": [
        "print(\"hello\")"
      ],
      "execution_count": null,
      "outputs": [
        {
          "output_type": "stream",
          "text": [
            "hello\n"
          ],
          "name": "stdout"
        }
      ]
    },
    {
      "cell_type": "markdown",
      "metadata": {
        "id": "vgHtj7f06L1E"
      },
      "source": [
        ""
      ]
    },
    {
      "cell_type": "code",
      "metadata": {
        "colab": {
          "base_uri": "https://localhost:8080/"
        },
        "id": "a-GxXl0e6Nzr",
        "outputId": "47ada765-a499-4232-f2e3-b7f564cb5172"
      },
      "source": [
        "2+5"
      ],
      "execution_count": null,
      "outputs": [
        {
          "output_type": "execute_result",
          "data": {
            "text/plain": [
              "7"
            ]
          },
          "metadata": {
            "tags": []
          },
          "execution_count": 2
        }
      ]
    },
    {
      "cell_type": "code",
      "metadata": {
        "colab": {
          "base_uri": "https://localhost:8080/"
        },
        "id": "d4gbDEWv8P3o",
        "outputId": "a9614193-066d-4e82-8c48-88cfb64fce92"
      },
      "source": [
        "a =5;\n",
        "b=7;\n",
        "c= a+b;\n",
        "print(c)"
      ],
      "execution_count": null,
      "outputs": [
        {
          "output_type": "stream",
          "text": [
            "12\n"
          ],
          "name": "stdout"
        }
      ]
    },
    {
      "cell_type": "code",
      "metadata": {
        "colab": {
          "base_uri": "https://localhost:8080/"
        },
        "id": "-0roR8Jj_iTS",
        "outputId": "2b41766d-5659-4b4e-8345-3fc437545a2d"
      },
      "source": [
        "ab=90\n",
        "print(ab)"
      ],
      "execution_count": null,
      "outputs": [
        {
          "output_type": "stream",
          "text": [
            "90\n"
          ],
          "name": "stdout"
        }
      ]
    },
    {
      "cell_type": "code",
      "metadata": {
        "colab": {
          "base_uri": "https://localhost:8080/",
          "height": 129
        },
        "id": "uTaEPhvb_oft",
        "outputId": "7a144b4d-536d-4736-e05c-d2a7be3d7a3b"
      },
      "source": [
        "10ab=89"
      ],
      "execution_count": null,
      "outputs": [
        {
          "output_type": "error",
          "ename": "SyntaxError",
          "evalue": "ignored",
          "traceback": [
            "\u001b[0;36m  File \u001b[0;32m\"<ipython-input-7-1e68790f4800>\"\u001b[0;36m, line \u001b[0;32m1\u001b[0m\n\u001b[0;31m    10ab=89\u001b[0m\n\u001b[0m       ^\u001b[0m\n\u001b[0;31mSyntaxError\u001b[0m\u001b[0;31m:\u001b[0m invalid syntax\n"
          ]
        }
      ]
    },
    {
      "cell_type": "code",
      "metadata": {
        "colab": {
          "base_uri": "https://localhost:8080/"
        },
        "id": "cBNVgD03_v-C",
        "outputId": "046f20f8-4bda-4af6-cd86-608afbd4e829"
      },
      "source": [
        "web10=78\n",
        "print(web10)"
      ],
      "execution_count": null,
      "outputs": [
        {
          "output_type": "stream",
          "text": [
            "78\n"
          ],
          "name": "stdout"
        }
      ]
    },
    {
      "cell_type": "code",
      "metadata": {
        "colab": {
          "base_uri": "https://localhost:8080/"
        },
        "id": "ioYGwHZzAAFi",
        "outputId": "b84ca96e-85c4-4980-d788-30f3406dd472"
      },
      "source": [
        "a_b =80\n",
        "print(a_b)"
      ],
      "execution_count": null,
      "outputs": [
        {
          "output_type": "stream",
          "text": [
            "80\n"
          ],
          "name": "stdout"
        }
      ]
    },
    {
      "cell_type": "code",
      "metadata": {
        "colab": {
          "base_uri": "https://localhost:8080/",
          "height": 129
        },
        "id": "RXeHLzv-AFun",
        "outputId": "2267a11c-b9df-4d70-a3cb-85750cb94b6d"
      },
      "source": [
        "a$b=90\n",
        "print(a$b)"
      ],
      "execution_count": null,
      "outputs": [
        {
          "output_type": "error",
          "ename": "SyntaxError",
          "evalue": "ignored",
          "traceback": [
            "\u001b[0;36m  File \u001b[0;32m\"<ipython-input-11-a2a0d09be705>\"\u001b[0;36m, line \u001b[0;32m1\u001b[0m\n\u001b[0;31m    a$b=90\u001b[0m\n\u001b[0m     ^\u001b[0m\n\u001b[0;31mSyntaxError\u001b[0m\u001b[0;31m:\u001b[0m invalid syntax\n"
          ]
        }
      ]
    },
    {
      "cell_type": "code",
      "metadata": {
        "colab": {
          "base_uri": "https://localhost:8080/",
          "height": 129
        },
        "id": "OMAcplZ8APYu",
        "outputId": "476a9fef-5d91-4667-ec79-e7a4774c7c49"
      },
      "source": [
        "a&b=90"
      ],
      "execution_count": null,
      "outputs": [
        {
          "output_type": "error",
          "ename": "SyntaxError",
          "evalue": "ignored",
          "traceback": [
            "\u001b[0;36m  File \u001b[0;32m\"<ipython-input-12-989abf892dd7>\"\u001b[0;36m, line \u001b[0;32m1\u001b[0m\n\u001b[0;31m    a&b=90\u001b[0m\n\u001b[0m          ^\u001b[0m\n\u001b[0;31mSyntaxError\u001b[0m\u001b[0;31m:\u001b[0m can't assign to operator\n"
          ]
        }
      ]
    },
    {
      "cell_type": "code",
      "metadata": {
        "colab": {
          "base_uri": "https://localhost:8080/"
        },
        "id": "hihaoH8MA_iT",
        "outputId": "683740c5-6b51-4a65-cfca-705f8fc1894e"
      },
      "source": [
        "import keyword\n",
        "keyword.kwlist"
      ],
      "execution_count": null,
      "outputs": [
        {
          "output_type": "execute_result",
          "data": {
            "text/plain": [
              "['False',\n",
              " 'None',\n",
              " 'True',\n",
              " 'and',\n",
              " 'as',\n",
              " 'assert',\n",
              " 'async',\n",
              " 'await',\n",
              " 'break',\n",
              " 'class',\n",
              " 'continue',\n",
              " 'def',\n",
              " 'del',\n",
              " 'elif',\n",
              " 'else',\n",
              " 'except',\n",
              " 'finally',\n",
              " 'for',\n",
              " 'from',\n",
              " 'global',\n",
              " 'if',\n",
              " 'import',\n",
              " 'in',\n",
              " 'is',\n",
              " 'lambda',\n",
              " 'nonlocal',\n",
              " 'not',\n",
              " 'or',\n",
              " 'pass',\n",
              " 'raise',\n",
              " 'return',\n",
              " 'try',\n",
              " 'while',\n",
              " 'with',\n",
              " 'yield']"
            ]
          },
          "metadata": {
            "tags": []
          },
          "execution_count": 13
        }
      ]
    },
    {
      "cell_type": "code",
      "metadata": {
        "colab": {
          "base_uri": "https://localhost:8080/"
        },
        "id": "sBC7fD4yBqLE",
        "outputId": "f0760d1b-e47e-44e7-9dc0-04824a0af46e"
      },
      "source": [
        "Import =90\n",
        "print(Import)"
      ],
      "execution_count": null,
      "outputs": [
        {
          "output_type": "stream",
          "text": [
            "90\n"
          ],
          "name": "stdout"
        }
      ]
    },
    {
      "cell_type": "markdown",
      "metadata": {
        "id": "UKeV8ndvEYYw"
      },
      "source": [
        "# DATA-TYPES"
      ]
    },
    {
      "cell_type": "code",
      "metadata": {
        "colab": {
          "base_uri": "https://localhost:8080/"
        },
        "id": "4s4jqqlkEVWZ",
        "outputId": "65265dbc-041b-4733-f690-4f2960494aca"
      },
      "source": [
        "a= 5;\n",
        "type(a)"
      ],
      "execution_count": null,
      "outputs": [
        {
          "output_type": "execute_result",
          "data": {
            "text/plain": [
              "int"
            ]
          },
          "metadata": {
            "tags": []
          },
          "execution_count": 18
        }
      ]
    },
    {
      "cell_type": "code",
      "metadata": {
        "colab": {
          "base_uri": "https://localhost:8080/"
        },
        "id": "Ku9eJjs6Ew2d",
        "outputId": "bfda90ac-706b-4a51-8e8c-c74f32b515cc"
      },
      "source": [
        "f=6.0\n",
        "type(f)"
      ],
      "execution_count": null,
      "outputs": [
        {
          "output_type": "execute_result",
          "data": {
            "text/plain": [
              "float"
            ]
          },
          "metadata": {
            "tags": []
          },
          "execution_count": 19
        }
      ]
    },
    {
      "cell_type": "code",
      "metadata": {
        "colab": {
          "base_uri": "https://localhost:8080/"
        },
        "id": "ePzGAKtyE9Yf",
        "outputId": "1ce23feb-d280-4566-d703-9e94c227446b"
      },
      "source": [
        "c= 9+5j\n",
        "type(c)"
      ],
      "execution_count": null,
      "outputs": [
        {
          "output_type": "execute_result",
          "data": {
            "text/plain": [
              "complex"
            ]
          },
          "metadata": {
            "tags": []
          },
          "execution_count": 20
        }
      ]
    },
    {
      "cell_type": "code",
      "metadata": {
        "colab": {
          "base_uri": "https://localhost:8080/"
        },
        "id": "2xVfgqJ9FHBB",
        "outputId": "ab9b342e-d546-45a5-a08c-6a2b982487ff"
      },
      "source": [
        "bool1 =True\n",
        "type(bool1)"
      ],
      "execution_count": null,
      "outputs": [
        {
          "output_type": "execute_result",
          "data": {
            "text/plain": [
              "bool"
            ]
          },
          "metadata": {
            "tags": []
          },
          "execution_count": 21
        }
      ]
    },
    {
      "cell_type": "code",
      "metadata": {
        "colab": {
          "base_uri": "https://localhost:8080/"
        },
        "id": "4xfgOw3zFRJ-",
        "outputId": "f491704c-9f79-4478-f2d1-57a5b45826f8"
      },
      "source": [
        "bool2= False\n",
        "type(bool2)"
      ],
      "execution_count": null,
      "outputs": [
        {
          "output_type": "execute_result",
          "data": {
            "text/plain": [
              "bool"
            ]
          },
          "metadata": {
            "tags": []
          },
          "execution_count": 22
        }
      ]
    },
    {
      "cell_type": "code",
      "metadata": {
        "colab": {
          "base_uri": "https://localhost:8080/"
        },
        "id": "8igKyY-AFb_K",
        "outputId": "977eef6c-76ee-4e3c-80da-38c5b62fa68b"
      },
      "source": [
        "b=\"7\"\n",
        "type(b)"
      ],
      "execution_count": null,
      "outputs": [
        {
          "output_type": "execute_result",
          "data": {
            "text/plain": [
              "str"
            ]
          },
          "metadata": {
            "tags": []
          },
          "execution_count": 23
        }
      ]
    },
    {
      "cell_type": "code",
      "metadata": {
        "colab": {
          "base_uri": "https://localhost:8080/"
        },
        "id": "Df2_ezaYFjE8",
        "outputId": "ecd71f20-9273-44b2-ae01-8a717c9284df"
      },
      "source": [
        "s=\"helooooo\"\n",
        "type(s)"
      ],
      "execution_count": null,
      "outputs": [
        {
          "output_type": "execute_result",
          "data": {
            "text/plain": [
              "str"
            ]
          },
          "metadata": {
            "tags": []
          },
          "execution_count": 24
        }
      ]
    },
    {
      "cell_type": "code",
      "metadata": {
        "colab": {
          "base_uri": "https://localhost:8080/"
        },
        "id": "Krs6SYEHFs6V",
        "outputId": "a0c98cec-da29-403b-a3ab-8c8491ac4232"
      },
      "source": [
        "s2='hiii'\n",
        "type(s2)"
      ],
      "execution_count": null,
      "outputs": [
        {
          "output_type": "execute_result",
          "data": {
            "text/plain": [
              "str"
            ]
          },
          "metadata": {
            "tags": []
          },
          "execution_count": 25
        }
      ]
    },
    {
      "cell_type": "code",
      "metadata": {
        "colab": {
          "base_uri": "https://localhost:8080/",
          "height": 129
        },
        "id": "LqEjkMeDFzXm",
        "outputId": "3647ea83-1682-429d-c150-0ee3d1a9cd6c"
      },
      "source": [
        "s3= 'how are you\"\n",
        "type(s3)"
      ],
      "execution_count": null,
      "outputs": [
        {
          "output_type": "error",
          "ename": "SyntaxError",
          "evalue": "ignored",
          "traceback": [
            "\u001b[0;36m  File \u001b[0;32m\"<ipython-input-26-3c395567e142>\"\u001b[0;36m, line \u001b[0;32m1\u001b[0m\n\u001b[0;31m    s3= 'how are you\"\u001b[0m\n\u001b[0m                     ^\u001b[0m\n\u001b[0;31mSyntaxError\u001b[0m\u001b[0;31m:\u001b[0m EOL while scanning string literal\n"
          ]
        }
      ]
    },
    {
      "cell_type": "code",
      "metadata": {
        "colab": {
          "base_uri": "https://localhost:8080/"
        },
        "id": "haZSDdndLttA",
        "outputId": "c030e8b2-d3f1-40b0-c2c4-0f84ab345e5f"
      },
      "source": [
        "a =5\n",
        "type(a)"
      ],
      "execution_count": null,
      "outputs": [
        {
          "output_type": "execute_result",
          "data": {
            "text/plain": [
              "int"
            ]
          },
          "metadata": {
            "tags": []
          },
          "execution_count": 4
        }
      ]
    },
    {
      "cell_type": "code",
      "metadata": {
        "colab": {
          "base_uri": "https://localhost:8080/"
        },
        "id": "roGJH1Y8MAHp",
        "outputId": "51df23bf-b4e2-444c-8c69-33f566577ebe"
      },
      "source": [
        "b = bytes(a)\n",
        "type(b)\n",
        "print(b)"
      ],
      "execution_count": null,
      "outputs": [
        {
          "output_type": "stream",
          "text": [
            "b'\\x00\\x00\\x00\\x00\\x00'\n"
          ],
          "name": "stdout"
        }
      ]
    },
    {
      "cell_type": "code",
      "metadata": {
        "colab": {
          "base_uri": "https://localhost:8080/"
        },
        "id": "2SVKuUFtMId2",
        "outputId": "307005e7-929b-4a17-c3fb-1086ee4b0549"
      },
      "source": [
        "print(b)"
      ],
      "execution_count": null,
      "outputs": [
        {
          "output_type": "stream",
          "text": [
            "b'\\x00\\x00\\x00\\x00\\x00'\n"
          ],
          "name": "stdout"
        }
      ]
    },
    {
      "cell_type": "markdown",
      "metadata": {
        "id": "X6d9Aur0M6ba"
      },
      "source": [
        "# Base conversion\n",
        "\n",
        "Decimal\n",
        "\n",
        "Binary\n",
        "\n",
        "Octal\n",
        "\n",
        "Hexa Decimal"
      ]
    },
    {
      "cell_type": "code",
      "metadata": {
        "colab": {
          "base_uri": "https://localhost:8080/"
        },
        "id": "QIG-UzvsMq-O",
        "outputId": "007fd7a7-bd4d-42d9-95c4-3c5ff43ad30c"
      },
      "source": [
        "# Decimal\n",
        "# Base 10\n",
        "# in b/w  0 to 9\n",
        "k = 0b101\n",
        "#int(k) # binary to decimal Conversion\n",
        "m=0o24\n",
        "#int(m) # octal to decimal Conversion\n",
        "g =0x43\n",
        "int(g)"
      ],
      "execution_count": null,
      "outputs": [
        {
          "output_type": "execute_result",
          "data": {
            "text/plain": [
              "67"
            ]
          },
          "metadata": {
            "tags": []
          },
          "execution_count": 14
        }
      ]
    },
    {
      "cell_type": "code",
      "metadata": {
        "id": "RqG3NzObNnDv"
      },
      "source": [
        "#Binary\n",
        "#base 2  (0 and 1)\n",
        "#notation :-Literal value should be prefixed with 0b and 0B.\n",
        "#conversion method 'bin()'."
      ],
      "execution_count": null,
      "outputs": []
    },
    {
      "cell_type": "code",
      "metadata": {
        "colab": {
          "base_uri": "https://localhost:8080/",
          "height": 35
        },
        "id": "Qm-sgbdZOY0d",
        "outputId": "b2565a5e-a56a-46ce-ba9e-895b6116a904"
      },
      "source": [
        "a =5\n",
        "bin(a)"
      ],
      "execution_count": null,
      "outputs": [
        {
          "output_type": "execute_result",
          "data": {
            "application/vnd.google.colaboratory.intrinsic+json": {
              "type": "string"
            },
            "text/plain": [
              "'0b101'"
            ]
          },
          "metadata": {
            "tags": []
          },
          "execution_count": 8
        }
      ]
    },
    {
      "cell_type": "code",
      "metadata": {
        "colab": {
          "base_uri": "https://localhost:8080/",
          "height": 35
        },
        "id": "owqKykzmOry0",
        "outputId": "a10c4110-ef97-4082-b5db-c6af0dbe3f69"
      },
      "source": [
        "#octa\n",
        "#base 8 (0 to 7)\n",
        "#notation :-Literal value should be prefixed with 0o and 0O.\n",
        "#conversion method 'oct()'.\n",
        "l =20\n",
        "oct(l)"
      ],
      "execution_count": null,
      "outputs": [
        {
          "output_type": "execute_result",
          "data": {
            "application/vnd.google.colaboratory.intrinsic+json": {
              "type": "string"
            },
            "text/plain": [
              "'0o24'"
            ]
          },
          "metadata": {
            "tags": []
          },
          "execution_count": 11
        }
      ]
    },
    {
      "cell_type": "code",
      "metadata": {
        "colab": {
          "base_uri": "https://localhost:8080/",
          "height": 35
        },
        "id": "Pwf6WhinQbCp",
        "outputId": "e4155ed1-9b3c-4239-f1f6-94f456bf321f"
      },
      "source": [
        "#hexDecimal\n",
        "#base 16 (0 to 15 but after 9 it uses Alphabet instead of numbers.)\n",
        "#notation :-Literal value should be prefixed with 0x and 0X.\n",
        "#conversion method 'hex()'.\n",
        "o= 67\n",
        "hex(o)"
      ],
      "execution_count": null,
      "outputs": [
        {
          "output_type": "execute_result",
          "data": {
            "application/vnd.google.colaboratory.intrinsic+json": {
              "type": "string"
            },
            "text/plain": [
              "'0x43'"
            ]
          },
          "metadata": {
            "tags": []
          },
          "execution_count": 13
        }
      ]
    },
    {
      "cell_type": "markdown",
      "metadata": {
        "id": "zUmB7Mp9RSiQ"
      },
      "source": [
        "# Assigment 1:-- Check base conversion that they can convert each other or not except int();"
      ]
    },
    {
      "cell_type": "markdown",
      "metadata": {
        "id": "r6zV6smXSE40"
      },
      "source": [
        "# TYPE CONVERSION"
      ]
    },
    {
      "cell_type": "markdown",
      "metadata": {
        "id": "l7ezzGe8S4ov"
      },
      "source": [
        "1.int\n",
        "\n",
        "2.float\n",
        "\n",
        "3.complex\n",
        "\n",
        "4.bool\n",
        "\n",
        "5.str\n",
        "\n",
        "6.bytes\n",
        "\n",
        "7. byteArry\n",
        "."
      ]
    },
    {
      "cell_type": "code",
      "metadata": {
        "colab": {
          "base_uri": "https://localhost:8080/"
        },
        "id": "OSOwEyxPSN2l",
        "outputId": "e95bd1cc-5cce-47bb-c354-358a8d1c685f"
      },
      "source": [
        "#int()\n",
        "\n",
        "#float to int conversion\n",
        "f= 8.0\n",
        "type(f)\n",
        "i = int(f)\n",
        "type(i)\n",
        "print(i)"
      ],
      "execution_count": null,
      "outputs": [
        {
          "output_type": "stream",
          "text": [
            "8\n"
          ],
          "name": "stdout"
        }
      ]
    },
    {
      "cell_type": "code",
      "metadata": {
        "colab": {
          "base_uri": "https://localhost:8080/"
        },
        "id": "ZdUA_-hCTRpJ",
        "outputId": "1b1068b2-0363-4d0a-ab83-6adce4e481b1"
      },
      "source": [
        "#float()\n",
        "#int to Float Conversion\n",
        "i = 89\n",
        "f = float(i)\n",
        "print(i)\n",
        "print(f)"
      ],
      "execution_count": null,
      "outputs": [
        {
          "output_type": "stream",
          "text": [
            "89\n",
            "89.0\n"
          ],
          "name": "stdout"
        }
      ]
    },
    {
      "cell_type": "code",
      "metadata": {
        "colab": {
          "base_uri": "https://localhost:8080/"
        },
        "id": "UoOQUB3TUZa9",
        "outputId": "310ee3bf-50c8-40a5-dee1-d96539acb7c3"
      },
      "source": [
        "#complex()\n",
        "\n",
        "# int to complex conversion\n",
        "#i= 80\n",
        "#c= complex(i)\n",
        "#print(c)\n",
        "#type(c)\n",
        "\n",
        "#float to complex conversion\n",
        "f = 6.0\n",
        "c = complex(f)\n",
        "print(c)\n",
        "type(c)\n",
        "\n",
        "#bool to complex"
      ],
      "execution_count": null,
      "outputs": [
        {
          "output_type": "stream",
          "text": [
            "(6+0j)\n"
          ],
          "name": "stdout"
        },
        {
          "output_type": "execute_result",
          "data": {
            "text/plain": [
              "complex"
            ]
          },
          "metadata": {
            "tags": []
          },
          "execution_count": 3
        }
      ]
    },
    {
      "cell_type": "code",
      "metadata": {
        "id": "2ifNnHW8Udb5"
      },
      "source": [
        "#bool()"
      ],
      "execution_count": null,
      "outputs": []
    },
    {
      "cell_type": "code",
      "metadata": {
        "id": "eBa6tlf8Uge7"
      },
      "source": [
        "#str()"
      ],
      "execution_count": null,
      "outputs": []
    },
    {
      "cell_type": "markdown",
      "metadata": {
        "id": "InLxb9A8Wka1"
      },
      "source": [
        "Assigment 2:- convert all remaining data type into  each other"
      ]
    },
    {
      "cell_type": "code",
      "metadata": {
        "colab": {
          "base_uri": "https://localhost:8080/"
        },
        "id": "_Ngjh-gUXU4y",
        "outputId": "d689bcfd-6ead-42c3-df31-c80e74909290"
      },
      "source": [
        "a =9\n",
        "id(a)"
      ],
      "execution_count": null,
      "outputs": [
        {
          "output_type": "execute_result",
          "data": {
            "text/plain": [
              "94878889921280"
            ]
          },
          "metadata": {
            "tags": []
          },
          "execution_count": 6
        }
      ]
    },
    {
      "cell_type": "code",
      "metadata": {
        "colab": {
          "base_uri": "https://localhost:8080/",
          "height": 197
        },
        "id": "T_DbhWBCVR_j",
        "outputId": "dc113ced-b523-44b4-e10f-ef02e5be2fe5"
      },
      "source": [
        "#str to int conversion\n",
        "\n",
        "a=\"hiiiii\"\n",
        "b=int(a)"
      ],
      "execution_count": null,
      "outputs": [
        {
          "output_type": "error",
          "ename": "ValueError",
          "evalue": "ignored",
          "traceback": [
            "\u001b[0;31m---------------------------------------------------------------------------\u001b[0m",
            "\u001b[0;31mValueError\u001b[0m                                Traceback (most recent call last)",
            "\u001b[0;32m<ipython-input-7-6f64fe645298>\u001b[0m in \u001b[0;36m<module>\u001b[0;34m()\u001b[0m\n\u001b[1;32m      2\u001b[0m \u001b[0;34m\u001b[0m\u001b[0m\n\u001b[1;32m      3\u001b[0m \u001b[0ma\u001b[0m\u001b[0;34m=\u001b[0m\u001b[0;34m\"hiiiii\"\u001b[0m\u001b[0;34m\u001b[0m\u001b[0;34m\u001b[0m\u001b[0m\n\u001b[0;32m----> 4\u001b[0;31m \u001b[0mb\u001b[0m\u001b[0;34m=\u001b[0m\u001b[0mint\u001b[0m\u001b[0;34m(\u001b[0m\u001b[0ma\u001b[0m\u001b[0;34m)\u001b[0m\u001b[0;34m\u001b[0m\u001b[0;34m\u001b[0m\u001b[0m\n\u001b[0m",
            "\u001b[0;31mValueError\u001b[0m: invalid literal for int() with base 10: 'hiiiii'"
          ]
        }
      ]
    },
    {
      "cell_type": "code",
      "metadata": {
        "colab": {
          "base_uri": "https://localhost:8080/"
        },
        "id": "RD6uNHtsWMNe",
        "outputId": "cce24929-ad22-4d6d-d92b-bb36b741e8fe"
      },
      "source": [
        "#str to int\n",
        "c= \"90\"\n",
        "i= int(c)\n",
        "print(c)\n",
        "print(i)\n",
        "type(c)\n",
        "#type(i)"
      ],
      "execution_count": null,
      "outputs": [
        {
          "output_type": "stream",
          "text": [
            "90\n",
            "90\n"
          ],
          "name": "stdout"
        },
        {
          "output_type": "execute_result",
          "data": {
            "text/plain": [
              "str"
            ]
          },
          "metadata": {
            "tags": []
          },
          "execution_count": 12
        }
      ]
    },
    {
      "cell_type": "markdown",
      "metadata": {
        "id": "EOUrB31sYB5g"
      },
      "source": [
        "*Fundamental Data Types vs Immutability: *\n",
        "\n",
        "\n",
        "All Fundamental Data types are immutable. i.e once we creates an object,we cannot perform any chan\n",
        "change then with those changes a new object will be created. This non-chageable behaviour is called\n",
        "In Python if a new object is required, then PVM wont create object immediately. First it will check is an\n",
        "content or not. If available then existing object will be reused. If it is not available then only a new obje\n",
        "approach is memory utilization and performance will be improved.\n",
        "But the problem in this approach is,several references pointing to the same object,by using one refere\n",
        "content in the existing object then the remaining references will be effected. To prevent this immutab\n",
        "once creates an object we are not allowed to change content. If we are trying to change with those ch"
      ]
    },
    {
      "cell_type": "code",
      "metadata": {
        "id": "SM8-oqIgYesB"
      },
      "source": [
        "# Mutable:--- Changable\n",
        "# non Mutable:-- Not Changable"
      ],
      "execution_count": null,
      "outputs": []
    },
    {
      "cell_type": "markdown",
      "metadata": {
        "id": "XrQ5iBtDYwNV"
      },
      "source": [
        "Bytes\n",
        "\n",
        "Bytearray"
      ]
    },
    {
      "cell_type": "code",
      "metadata": {
        "colab": {
          "base_uri": "https://localhost:8080/",
          "height": 197
        },
        "id": "X3y7PT9SY2Fm",
        "outputId": "652a70f7-783c-42d8-e808-ee5357cd463f"
      },
      "source": [
        "#bytes data type represens a group of byte numbers just like an array\n",
        "\n",
        "x=[10,20,25]\n",
        "b = bytes(x)\n",
        "b.append(30)"
      ],
      "execution_count": null,
      "outputs": [
        {
          "output_type": "error",
          "ename": "AttributeError",
          "evalue": "ignored",
          "traceback": [
            "\u001b[0;31m---------------------------------------------------------------------------\u001b[0m",
            "\u001b[0;31mAttributeError\u001b[0m                            Traceback (most recent call last)",
            "\u001b[0;32m<ipython-input-35-c1e96189cbb6>\u001b[0m in \u001b[0;36m<module>\u001b[0;34m()\u001b[0m\n\u001b[1;32m      3\u001b[0m \u001b[0mx\u001b[0m\u001b[0;34m=\u001b[0m\u001b[0;34m[\u001b[0m\u001b[0;36m10\u001b[0m\u001b[0;34m,\u001b[0m\u001b[0;36m20\u001b[0m\u001b[0;34m,\u001b[0m\u001b[0;36m25\u001b[0m\u001b[0;34m]\u001b[0m\u001b[0;34m\u001b[0m\u001b[0;34m\u001b[0m\u001b[0m\n\u001b[1;32m      4\u001b[0m \u001b[0mb\u001b[0m \u001b[0;34m=\u001b[0m \u001b[0mbytes\u001b[0m\u001b[0;34m(\u001b[0m\u001b[0mx\u001b[0m\u001b[0;34m)\u001b[0m\u001b[0;34m\u001b[0m\u001b[0;34m\u001b[0m\u001b[0m\n\u001b[0;32m----> 5\u001b[0;31m \u001b[0mb\u001b[0m\u001b[0;34m.\u001b[0m\u001b[0mappend\u001b[0m\u001b[0;34m(\u001b[0m\u001b[0;36m30\u001b[0m\u001b[0;34m)\u001b[0m\u001b[0;34m\u001b[0m\u001b[0;34m\u001b[0m\u001b[0m\n\u001b[0m",
            "\u001b[0;31mAttributeError\u001b[0m: 'bytes' object has no attribute 'append'"
          ]
        }
      ]
    },
    {
      "cell_type": "code",
      "metadata": {
        "colab": {
          "base_uri": "https://localhost:8080/",
          "height": 197
        },
        "id": "hlLtzsmZbXc3",
        "outputId": "99e7232a-9a73-46d5-af92-90b2e227fc1f"
      },
      "source": [
        "#bytearray\n",
        "y = [10,30,80,70]\n",
        "ba= bytearray(y)\n",
        "type(ba)\n",
        "print(ba[4])"
      ],
      "execution_count": null,
      "outputs": [
        {
          "output_type": "error",
          "ename": "IndexError",
          "evalue": "ignored",
          "traceback": [
            "\u001b[0;31m---------------------------------------------------------------------------\u001b[0m",
            "\u001b[0;31mIndexError\u001b[0m                                Traceback (most recent call last)",
            "\u001b[0;32m<ipython-input-32-93f6bc1c8e5f>\u001b[0m in \u001b[0;36m<module>\u001b[0;34m()\u001b[0m\n\u001b[1;32m      3\u001b[0m \u001b[0mba\u001b[0m\u001b[0;34m=\u001b[0m \u001b[0mbytearray\u001b[0m\u001b[0;34m(\u001b[0m\u001b[0my\u001b[0m\u001b[0;34m)\u001b[0m\u001b[0;34m\u001b[0m\u001b[0;34m\u001b[0m\u001b[0m\n\u001b[1;32m      4\u001b[0m \u001b[0mtype\u001b[0m\u001b[0;34m(\u001b[0m\u001b[0mba\u001b[0m\u001b[0;34m)\u001b[0m\u001b[0;34m\u001b[0m\u001b[0;34m\u001b[0m\u001b[0m\n\u001b[0;32m----> 5\u001b[0;31m \u001b[0mprint\u001b[0m\u001b[0;34m(\u001b[0m\u001b[0mba\u001b[0m\u001b[0;34m[\u001b[0m\u001b[0;36m4\u001b[0m\u001b[0;34m]\u001b[0m\u001b[0;34m)\u001b[0m\u001b[0;34m\u001b[0m\u001b[0;34m\u001b[0m\u001b[0m\n\u001b[0m",
            "\u001b[0;31mIndexError\u001b[0m: bytearray index out of range"
          ]
        }
      ]
    },
    {
      "cell_type": "code",
      "metadata": {
        "colab": {
          "base_uri": "https://localhost:8080/"
        },
        "id": "WBd9CtnLcC_R",
        "outputId": "8c052fc6-c30a-4f95-d8b4-d2cd47f6ef9e"
      },
      "source": [
        "#mutable#bytearray\n",
        "\n",
        "ba.append(90) # added 4th element in bytearray ba.\n",
        "print(ba[4])\n"
      ],
      "execution_count": null,
      "outputs": [
        {
          "output_type": "stream",
          "text": [
            "90\n"
          ],
          "name": "stdout"
        }
      ]
    },
    {
      "cell_type": "markdown",
      "metadata": {
        "id": "5aJy3anzeICC"
      },
      "source": [
        "#List\n",
        "\n",
        "# Tuple"
      ]
    },
    {
      "cell_type": "code",
      "metadata": {
        "colab": {
          "base_uri": "https://localhost:8080/"
        },
        "id": "uhi0Ga2pd_O2",
        "outputId": "fdc1207d-19a2-44ef-ae5f-2901c9dbb404"
      },
      "source": [
        "# insertion order is preserved\n",
        "a=[12,50,67,89,90]\n",
        "a[3]"
      ],
      "execution_count": null,
      "outputs": [
        {
          "output_type": "execute_result",
          "data": {
            "text/plain": [
              "89"
            ]
          },
          "metadata": {
            "tags": []
          },
          "execution_count": 40
        }
      ]
    },
    {
      "cell_type": "code",
      "metadata": {
        "colab": {
          "base_uri": "https://localhost:8080/",
          "height": 35
        },
        "id": "bWj_apHOexvY",
        "outputId": "5e205ca6-0b30-4fb3-a1f1-c4b4a29d8fd1"
      },
      "source": [
        "#heterogeneous objects are allowed\n",
        "a=[56,89,'mk','uk']\n",
        "a[2]"
      ],
      "execution_count": null,
      "outputs": [
        {
          "output_type": "execute_result",
          "data": {
            "application/vnd.google.colaboratory.intrinsic+json": {
              "type": "string"
            },
            "text/plain": [
              "'mk'"
            ]
          },
          "metadata": {
            "tags": []
          },
          "execution_count": 44
        }
      ]
    },
    {
      "cell_type": "code",
      "metadata": {
        "id": "nIS5wgvhfKvS"
      },
      "source": [
        "# duplicates are allowed\n",
        "b=[20,20,30,30]"
      ],
      "execution_count": null,
      "outputs": []
    },
    {
      "cell_type": "code",
      "metadata": {
        "colab": {
          "base_uri": "https://localhost:8080/"
        },
        "id": "sZgPlyuXfToC",
        "outputId": "a005f232-6226-441c-b6b5-ad4d4d54b6bd"
      },
      "source": [
        "#mutable(growable)\n",
        "c= [12,76]\n",
        "c.append('www')\n",
        "print(c)"
      ],
      "execution_count": null,
      "outputs": [
        {
          "output_type": "stream",
          "text": [
            "[12, 76, 'www']\n"
          ],
          "name": "stdout"
        }
      ]
    },
    {
      "cell_type": "code",
      "metadata": {
        "colab": {
          "base_uri": "https://localhost:8080/",
          "height": 35
        },
        "id": "iH3Wym-hf29Y",
        "outputId": "45dd5ff1-dbde-4212-c41c-8737068b2ffe"
      },
      "source": [
        "# diplay tthe value of list\n",
        "c[-1]# right to left"
      ],
      "execution_count": null,
      "outputs": [
        {
          "output_type": "execute_result",
          "data": {
            "application/vnd.google.colaboratory.intrinsic+json": {
              "type": "string"
            },
            "text/plain": [
              "'www'"
            ]
          },
          "metadata": {
            "tags": []
          },
          "execution_count": 48
        }
      ]
    },
    {
      "cell_type": "code",
      "metadata": {
        "colab": {
          "base_uri": "https://localhost:8080/"
        },
        "id": "OBsKRChLgLx_",
        "outputId": "7384e23b-f28e-4628-d64e-ca312cfbe966"
      },
      "source": [
        "c[0:]# display value from given number to all element in given list"
      ],
      "execution_count": null,
      "outputs": [
        {
          "output_type": "execute_result",
          "data": {
            "text/plain": [
              "[12, 76, 'www']"
            ]
          },
          "metadata": {
            "tags": []
          },
          "execution_count": 49
        }
      ]
    },
    {
      "cell_type": "code",
      "metadata": {
        "colab": {
          "base_uri": "https://localhost:8080/"
        },
        "id": "pAO7z4_cgZZQ",
        "outputId": "c78cb807-ca6c-4a38-b8e7-8108cb26ebfa"
      },
      "source": [
        "c[:2]# display value from 0 index to given index value."
      ],
      "execution_count": null,
      "outputs": [
        {
          "output_type": "execute_result",
          "data": {
            "text/plain": [
              "[12, 76]"
            ]
          },
          "metadata": {
            "tags": []
          },
          "execution_count": 51
        }
      ]
    },
    {
      "cell_type": "code",
      "metadata": {
        "colab": {
          "base_uri": "https://localhost:8080/"
        },
        "id": "3r-n6UDzgjEE",
        "outputId": "9586c519-8288-46be-d10f-3a10d443d45e"
      },
      "source": [
        "c[0:2] # display value in b/w given index"
      ],
      "execution_count": null,
      "outputs": [
        {
          "output_type": "execute_result",
          "data": {
            "text/plain": [
              "[12, 76]"
            ]
          },
          "metadata": {
            "tags": []
          },
          "execution_count": 52
        }
      ]
    },
    {
      "cell_type": "code",
      "metadata": {
        "colab": {
          "base_uri": "https://localhost:8080/"
        },
        "id": "PSLWlMrIg_5-",
        "outputId": "7dd93147-e1cb-419b-c014-807a53d7d25d"
      },
      "source": [
        "# tuple:-- same as list but immutable\n",
        "a=(45,67) #tuple always written by using round bracket.\n",
        "type(a)"
      ],
      "execution_count": null,
      "outputs": [
        {
          "output_type": "execute_result",
          "data": {
            "text/plain": [
              "tuple"
            ]
          },
          "metadata": {
            "tags": []
          },
          "execution_count": 53
        }
      ]
    },
    {
      "cell_type": "code",
      "metadata": {
        "id": "EeMzsAAbibN8",
        "colab": {
          "base_uri": "https://localhost:8080/",
          "height": 163
        },
        "outputId": "f6e2f5e7-fa7f-4f0a-d3a5-104acd085d2a"
      },
      "source": [
        "a.append(90)"
      ],
      "execution_count": null,
      "outputs": [
        {
          "output_type": "error",
          "ename": "AttributeError",
          "evalue": "ignored",
          "traceback": [
            "\u001b[0;31m---------------------------------------------------------------------------\u001b[0m",
            "\u001b[0;31mAttributeError\u001b[0m                            Traceback (most recent call last)",
            "\u001b[0;32m<ipython-input-54-28d09dde730d>\u001b[0m in \u001b[0;36m<module>\u001b[0;34m()\u001b[0m\n\u001b[0;32m----> 1\u001b[0;31m \u001b[0ma\u001b[0m\u001b[0;34m.\u001b[0m\u001b[0mappend\u001b[0m\u001b[0;34m(\u001b[0m\u001b[0;36m90\u001b[0m\u001b[0;34m)\u001b[0m\u001b[0;34m\u001b[0m\u001b[0;34m\u001b[0m\u001b[0m\n\u001b[0m",
            "\u001b[0;31mAttributeError\u001b[0m: 'tuple' object has no attribute 'append'"
          ]
        }
      ]
    },
    {
      "cell_type": "markdown",
      "metadata": {
        "id": "M3JeWkZobJAt"
      },
      "source": [
        "# RANGE"
      ]
    },
    {
      "cell_type": "code",
      "metadata": {
        "colab": {
          "base_uri": "https://localhost:8080/"
        },
        "id": "E6OhWM6BbIZO",
        "outputId": "64618a40-18dd-41fd-ffdc-abe9a838adc8"
      },
      "source": [
        "range(10)"
      ],
      "execution_count": null,
      "outputs": [
        {
          "output_type": "execute_result",
          "data": {
            "text/plain": [
              "range(0, 10)"
            ]
          },
          "metadata": {
            "tags": []
          },
          "execution_count": 1
        }
      ]
    },
    {
      "cell_type": "code",
      "metadata": {
        "colab": {
          "base_uri": "https://localhost:8080/"
        },
        "id": "PCawZ3KbbXtp",
        "outputId": "f363b860-0f89-49a4-ac0b-33fd4f4e7535"
      },
      "source": [
        "for i in range(10):\n",
        "  print(i)"
      ],
      "execution_count": null,
      "outputs": [
        {
          "output_type": "stream",
          "text": [
            "0\n",
            "1\n",
            "2\n",
            "3\n",
            "4\n",
            "5\n",
            "6\n",
            "7\n",
            "8\n",
            "9\n"
          ],
          "name": "stdout"
        }
      ]
    },
    {
      "cell_type": "code",
      "metadata": {
        "colab": {
          "base_uri": "https://localhost:8080/"
        },
        "id": "Vhwuaa6ucF17",
        "outputId": "66a9a28e-1a70-43df-992e-a218f81c9ec9"
      },
      "source": [
        " a = range(10)\n",
        " a[9]"
      ],
      "execution_count": null,
      "outputs": [
        {
          "output_type": "execute_result",
          "data": {
            "text/plain": [
              "9"
            ]
          },
          "metadata": {
            "tags": []
          },
          "execution_count": 6
        }
      ]
    },
    {
      "cell_type": "code",
      "metadata": {
        "colab": {
          "base_uri": "https://localhost:8080/"
        },
        "id": "JKjwD2xPcpRC",
        "outputId": "db3ff4b1-85ec-4b0b-b3be-cc9b79efede4"
      },
      "source": [
        "for i in range(10,15):\n",
        "  print(i)\n"
      ],
      "execution_count": null,
      "outputs": [
        {
          "output_type": "stream",
          "text": [
            "10\n",
            "11\n",
            "12\n",
            "13\n",
            "14\n"
          ],
          "name": "stdout"
        }
      ]
    },
    {
      "cell_type": "code",
      "metadata": {
        "colab": {
          "base_uri": "https://localhost:8080/"
        },
        "id": "Xo1MCsmic-68",
        "outputId": "9507d650-5103-415e-c4bf-9f41ecc8ff36"
      },
      "source": [
        "for i in range(10,20,3):\n",
        "  print(i)"
      ],
      "execution_count": null,
      "outputs": [
        {
          "output_type": "stream",
          "text": [
            "10\n",
            "13\n",
            "16\n",
            "19\n"
          ],
          "name": "stdout"
        }
      ]
    },
    {
      "cell_type": "code",
      "metadata": {
        "colab": {
          "base_uri": "https://localhost:8080/"
        },
        "id": "LSc5Fh30dXvU",
        "outputId": "5acaeccf-bac6-4220-d6b3-57974eab0eee"
      },
      "source": [
        "l = list(range(10))\n",
        "print(l)"
      ],
      "execution_count": null,
      "outputs": [
        {
          "output_type": "stream",
          "text": [
            "[0, 1, 2, 3, 4, 5, 6, 7, 8, 9]\n"
          ],
          "name": "stdout"
        }
      ]
    },
    {
      "cell_type": "markdown",
      "metadata": {
        "id": "-LtYI2bSe0x6"
      },
      "source": [
        "# Sets"
      ]
    },
    {
      "cell_type": "code",
      "metadata": {
        "colab": {
          "base_uri": "https://localhost:8080/"
        },
        "id": "GTi3luzMe6Cw",
        "outputId": "ff5c7016-e7e2-456d-ca74-0de79ffae0ab"
      },
      "source": [
        "#creation of sets\n",
        "s= {12,45,67,89,9,\"mk\"}\n",
        "type(s)"
      ],
      "execution_count": null,
      "outputs": [
        {
          "output_type": "execute_result",
          "data": {
            "text/plain": [
              "set"
            ]
          },
          "metadata": {
            "tags": []
          },
          "execution_count": 16
        }
      ]
    },
    {
      "cell_type": "code",
      "metadata": {
        "colab": {
          "base_uri": "https://localhost:8080/",
          "height": 197
        },
        "id": "iZh1ANj8fVsL",
        "outputId": "5933c79a-d30b-4639-c904-d057b06b4bd0"
      },
      "source": [
        "#insertion order is not preserved\n",
        "#index concept is not applicable\n",
        "s= {12,45,67,89,9,\"mk\"}\n",
        "s[0]"
      ],
      "execution_count": null,
      "outputs": [
        {
          "output_type": "error",
          "ename": "TypeError",
          "evalue": "ignored",
          "traceback": [
            "\u001b[0;31m---------------------------------------------------------------------------\u001b[0m",
            "\u001b[0;31mTypeError\u001b[0m                                 Traceback (most recent call last)",
            "\u001b[0;32m<ipython-input-17-165c9353f936>\u001b[0m in \u001b[0;36m<module>\u001b[0;34m()\u001b[0m\n\u001b[1;32m      2\u001b[0m \u001b[0;31m#index concept is not applicable\u001b[0m\u001b[0;34m\u001b[0m\u001b[0;34m\u001b[0m\u001b[0;34m\u001b[0m\u001b[0m\n\u001b[1;32m      3\u001b[0m \u001b[0ms\u001b[0m\u001b[0;34m=\u001b[0m \u001b[0;34m{\u001b[0m\u001b[0;36m12\u001b[0m\u001b[0;34m,\u001b[0m\u001b[0;36m45\u001b[0m\u001b[0;34m,\u001b[0m\u001b[0;36m67\u001b[0m\u001b[0;34m,\u001b[0m\u001b[0;36m89\u001b[0m\u001b[0;34m,\u001b[0m\u001b[0;36m9\u001b[0m\u001b[0;34m,\u001b[0m\u001b[0;34m\"mk\"\u001b[0m\u001b[0;34m}\u001b[0m\u001b[0;34m\u001b[0m\u001b[0;34m\u001b[0m\u001b[0m\n\u001b[0;32m----> 4\u001b[0;31m \u001b[0ms\u001b[0m\u001b[0;34m[\u001b[0m\u001b[0;36m0\u001b[0m\u001b[0;34m]\u001b[0m\u001b[0;34m\u001b[0m\u001b[0;34m\u001b[0m\u001b[0m\n\u001b[0m",
            "\u001b[0;31mTypeError\u001b[0m: 'set' object is not subscriptable"
          ]
        }
      ]
    },
    {
      "cell_type": "code",
      "metadata": {
        "colab": {
          "base_uri": "https://localhost:8080/"
        },
        "id": "wqiRZseNgi3S",
        "outputId": "34953828-6f64-424e-f282-96cc6b927ba0"
      },
      "source": [
        "# duplicates are not allowed\n",
        "s= {12,45,67,12,89,9,\"mk\"}\n",
        "print(s)"
      ],
      "execution_count": null,
      "outputs": [
        {
          "output_type": "stream",
          "text": [
            "{67, 9, 12, 45, 'mk', 89}\n"
          ],
          "name": "stdout"
        }
      ]
    },
    {
      "cell_type": "code",
      "metadata": {
        "colab": {
          "base_uri": "https://localhost:8080/"
        },
        "id": "NXFrSpAGhGTQ",
        "outputId": "a0687216-0988-4714-fac8-4505ca258700"
      },
      "source": [
        "#. heterogeneous objects are allowed\n",
        "s= {12,45,67,12,89,9,\"mk\",10.9}\n",
        "print(s)"
      ],
      "execution_count": null,
      "outputs": [
        {
          "output_type": "stream",
          "text": [
            "{67, 9, 10.9, 12, 45, 'mk', 89}\n"
          ],
          "name": "stdout"
        }
      ]
    },
    {
      "cell_type": "code",
      "metadata": {
        "colab": {
          "base_uri": "https://localhost:8080/"
        },
        "id": "c2rUZ8rShuIZ",
        "outputId": "8c8f90d2-5999-4f21-c539-4ff32077b5f2"
      },
      "source": [
        "#. It is mutable collection\n",
        "s.add(78)\n",
        "print(s)"
      ],
      "execution_count": null,
      "outputs": [
        {
          "output_type": "stream",
          "text": [
            "{67, 9, 10.9, 12, 45, 78, 'mk', 89}\n"
          ],
          "name": "stdout"
        }
      ]
    },
    {
      "cell_type": "code",
      "metadata": {
        "colab": {
          "base_uri": "https://localhost:8080/"
        },
        "id": "TNUt8iGSjOB1",
        "outputId": "081bc7bb-70d0-4f6e-e154-d0dad47e76d8"
      },
      "source": [
        "f=frozenset(s)\n",
        "type(f)"
      ],
      "execution_count": null,
      "outputs": [
        {
          "output_type": "execute_result",
          "data": {
            "text/plain": [
              "frozenset"
            ]
          },
          "metadata": {
            "tags": []
          },
          "execution_count": 28
        }
      ]
    },
    {
      "cell_type": "code",
      "metadata": {
        "colab": {
          "base_uri": "https://localhost:8080/",
          "height": 163
        },
        "id": "dpizWfTojX5s",
        "outputId": "86264c96-5370-41c8-c741-a6bfefe20b9c"
      },
      "source": [
        "f.add(60) #immutable"
      ],
      "execution_count": null,
      "outputs": [
        {
          "output_type": "error",
          "ename": "AttributeError",
          "evalue": "ignored",
          "traceback": [
            "\u001b[0;31m---------------------------------------------------------------------------\u001b[0m",
            "\u001b[0;31mAttributeError\u001b[0m                            Traceback (most recent call last)",
            "\u001b[0;32m<ipython-input-29-0e67edf48f3b>\u001b[0m in \u001b[0;36m<module>\u001b[0;34m()\u001b[0m\n\u001b[0;32m----> 1\u001b[0;31m \u001b[0mf\u001b[0m\u001b[0;34m.\u001b[0m\u001b[0madd\u001b[0m\u001b[0;34m(\u001b[0m\u001b[0;36m60\u001b[0m\u001b[0;34m)\u001b[0m\u001b[0;34m\u001b[0m\u001b[0;34m\u001b[0m\u001b[0m\n\u001b[0m",
            "\u001b[0;31mAttributeError\u001b[0m: 'frozenset' object has no attribute 'add'"
          ]
        }
      ]
    },
    {
      "cell_type": "markdown",
      "metadata": {
        "id": "CCCd3kSNkd1d"
      },
      "source": [
        "# Dictionary"
      ]
    },
    {
      "cell_type": "code",
      "metadata": {
        "colab": {
          "base_uri": "https://localhost:8080/"
        },
        "id": "Gw4wIzpjkciJ",
        "outputId": "f0eb1b3f-2af3-40a0-fed4-fa79888128d1"
      },
      "source": [
        "#creation of Dict.\n",
        "mk={101:'csa',102:'ravi',103:'logix'} \n",
        "print(mk)\n",
        "type(mk)"
      ],
      "execution_count": null,
      "outputs": [
        {
          "output_type": "stream",
          "text": [
            "{101: 'csa', 102: 'ravi', 103: 'logix'}\n"
          ],
          "name": "stdout"
        },
        {
          "output_type": "execute_result",
          "data": {
            "text/plain": [
              "dict"
            ]
          },
          "metadata": {
            "tags": []
          },
          "execution_count": 33
        }
      ]
    },
    {
      "cell_type": "code",
      "metadata": {
        "colab": {
          "base_uri": "https://localhost:8080/"
        },
        "id": "ye7qmC9olE3R",
        "outputId": "1159ef4b-8ebe-483d-8bb8-8b1655a0402a"
      },
      "source": [
        "#Duplicate keys are not allowed but values can be duplicated.\n",
        "mk={101:'csa',101:'ravi',103:'logix'} \n",
        "print(mk)#Duplicate keys are not allowed\n",
        "mkv={101:'csa',102:'csa',103:'logix'} \n",
        "print(mkv)#values can be duplicated."
      ],
      "execution_count": null,
      "outputs": [
        {
          "output_type": "stream",
          "text": [
            "{101: 'ravi', 103: 'logix'}\n",
            "{101: 'csa', 102: 'csa', 103: 'logix'}\n"
          ],
          "name": "stdout"
        }
      ]
    },
    {
      "cell_type": "code",
      "metadata": {
        "id": "vIXeBYnhmKxz"
      },
      "source": [
        "#dict is mutable and the order wont be preserved."
      ],
      "execution_count": null,
      "outputs": []
    },
    {
      "cell_type": "code",
      "metadata": {
        "id": "NEvpkwu7p280"
      },
      "source": [
        "from math import sqrt #for importing any specific function from module.\n",
        "import math # for importing complete math module.\n",
        "import math as m # for importing module as alise."
      ],
      "execution_count": null,
      "outputs": []
    },
    {
      "cell_type": "code",
      "metadata": {
        "colab": {
          "base_uri": "https://localhost:8080/"
        },
        "id": "VaxqawCBrc1I",
        "outputId": "c3c04967-cb48-4bff-8928-21f07043021f"
      },
      "source": [
        "#taking input from user\n",
        "\n",
        "x= input(\"what is your name:-\")"
      ],
      "execution_count": null,
      "outputs": [
        {
          "output_type": "stream",
          "text": [
            "what is your name:-mk\n"
          ],
          "name": "stdout"
        }
      ]
    },
    {
      "cell_type": "code",
      "metadata": {
        "colab": {
          "base_uri": "https://localhost:8080/"
        },
        "id": "sTZlIUAor18o",
        "outputId": "0aa862d9-06a0-4577-d5e0-c280ec473b56"
      },
      "source": [
        "x =input(\"enter a number:-\")\n",
        "type(x)"
      ],
      "execution_count": null,
      "outputs": [
        {
          "output_type": "stream",
          "text": [
            "enter a number:-10.78\n"
          ],
          "name": "stdout"
        },
        {
          "output_type": "execute_result",
          "data": {
            "text/plain": [
              "str"
            ]
          },
          "metadata": {
            "tags": []
          },
          "execution_count": 47
        }
      ]
    }
  ]
}